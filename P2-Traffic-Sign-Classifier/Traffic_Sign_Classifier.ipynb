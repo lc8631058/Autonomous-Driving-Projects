{
 "cells": [
  {
   "cell_type": "markdown",
   "metadata": {},
   "source": [
    "# Self-Driving Car Engineer Nanodegree\n",
    "\n",
    "## Deep Learning\n",
    "\n",
    "## Project: Build a Traffic Sign Recognition Classifier\n",
    "\n",
    "In this notebook, a template is provided for you to implement your functionality in stages, which is required to successfully complete this project. If additional code is required that cannot be included in the notebook, be sure that the Python code is successfully imported and included in your submission if necessary. \n",
    "\n",
    "> **Note**: Once you have completed all of the code implementations, you need to finalize your work by exporting the iPython Notebook as an HTML document. Before exporting the notebook to html, all of the code cells need to have been run so that reviewers can see the final implementation and output. You can then export the notebook by using the menu above and navigating to  \\n\",\n",
    "    \"**File -> Download as -> HTML (.html)**. Include the finished document along with this notebook as your submission. \n",
    "\n",
    "In addition to implementing code, there is a writeup to complete. The writeup should be completed in a separate file, which can be either a markdown file or a pdf document. There is a [write up template](https://github.com/udacity/CarND-Traffic-Sign-Classifier-Project/blob/master/writeup_template.md) that can be used to guide the writing process. Completing the code template and writeup template will cover all of the [rubric points](https://review.udacity.com/#!/rubrics/481/view) for this project.\n",
    "\n",
    "The [rubric](https://review.udacity.com/#!/rubrics/481/view) contains \"Stand Out Suggestions\" for enhancing the project beyond the minimum requirements. The stand out suggestions are optional. If you decide to pursue the \"stand out suggestions\", you can include the code in this Ipython notebook and also discuss the results in the writeup file.\n",
    "\n",
    "\n",
    ">**Note:** Code and Markdown cells can be executed using the **Shift + Enter** keyboard shortcut. In addition, Markdown cells can be edited by typically double-clicking the cell to enter edit mode."
   ]
  },
  {
   "cell_type": "markdown",
   "metadata": {},
   "source": [
    "---\n",
    "## Step 0: Load The Data"
   ]
  },
  {
   "cell_type": "code",
   "execution_count": 424,
   "metadata": {},
   "outputs": [],
   "source": [
    "# Load pickled data\n",
    "import pickle\n",
    "import numpy as np\n",
    "from PIL import Image\n",
    "from sklearn import preprocessing\n",
    "from skimage.color import rgb2gray\n",
    "import cv2\n",
    "import time\n",
    "import tensorflow as tf\n",
    "import collections\n",
    "# TODO: Fill this in based on where you saved the training and testing data\n",
    "\n",
    "training_file = './traffic-signs-data/train.p'\n",
    "validation_file= './traffic-signs-data/valid.p'\n",
    "testing_file = './traffic-signs-data/test.p'\n",
    "\n",
    "with open(training_file, mode='rb') as f:\n",
    "    train = pickle.load(f)\n",
    "with open(validation_file, mode='rb') as f:\n",
    "    valid = pickle.load(f)\n",
    "with open(testing_file, mode='rb') as f:\n",
    "    test = pickle.load(f)\n",
    "    \n",
    "X_train, y_train = train['features'], train['labels']\n",
    "X_valid, y_valid = valid['features'], valid['labels']\n",
    "X_test, y_test = test['features'], test['labels']"
   ]
  },
  {
   "cell_type": "markdown",
   "metadata": {},
   "source": [
    "---\n",
    "\n",
    "## Step 1: Dataset Summary & Exploration\n",
    "\n",
    "The pickled data is a dictionary with 4 key/value pairs:\n",
    "\n",
    "- `'features'` is a 4D array containing raw pixel data of the traffic sign images, (num examples, width, height, channels).\n",
    "- `'labels'` is a 1D array containing the label/class id of the traffic sign. The file `signnames.csv` contains id -> name mappings for each id.\n",
    "- `'sizes'` is a list containing tuples, (width, height) representing the original width and height the image.\n",
    "- `'coords'` is a list containing tuples, (x1, y1, x2, y2) representing coordinates of a bounding box around the sign in the image. **THESE COORDINATES ASSUME THE ORIGINAL IMAGE. THE PICKLED DATA CONTAINS RESIZED VERSIONS (32 by 32) OF THESE IMAGES**\n",
    "\n",
    "Complete the basic data summary below. Use python, numpy and/or pandas methods to calculate the data summary rather than hard coding the results. For example, the [pandas shape method](http://pandas.pydata.org/pandas-docs/stable/generated/pandas.DataFrame.shape.html) might be useful for calculating some of the summary results. "
   ]
  },
  {
   "cell_type": "markdown",
   "metadata": {},
   "source": [
    "### Provide a Basic Summary of the Data Set Using Python, Numpy and/or Pandas"
   ]
  },
  {
   "cell_type": "code",
   "execution_count": 425,
   "metadata": {
    "scrolled": true
   },
   "outputs": [
    {
     "name": "stdout",
     "output_type": "stream",
     "text": [
      "Number of training examples = 34799\n",
      "Number of testing examples = 12630\n",
      "Image data shape = (32, 32, 3)\n",
      "Number of classes = 43\n"
     ]
    }
   ],
   "source": [
    "### Replace each question mark with the appropriate value. \n",
    "### Use python, pandas or numpy methods rather than hard coding the results\n",
    "\n",
    "# TODO: Number of training examples\n",
    "n_train = len(X_train)\n",
    "\n",
    "# TODO: Number of validation examples\n",
    "n_validation = len(X_valid)\n",
    "\n",
    "# TODO: Number of testing examples.\n",
    "n_test = len(X_test)\n",
    "\n",
    "# TODO: What's the shape of an traffic sign image?\n",
    "image_shape = X_train.shape[1:]\n",
    "\n",
    "# TODO: How many unique classes/labels there are in the dataset.\n",
    "n_classes = len(set(y_train))\n",
    "\n",
    "print(\"Number of training examples =\", n_train)\n",
    "print(\"Number of testing examples =\", n_test)\n",
    "print(\"Image data shape =\", image_shape)\n",
    "print(\"Number of classes =\", n_classes)"
   ]
  },
  {
   "cell_type": "code",
   "execution_count": 426,
   "metadata": {},
   "outputs": [],
   "source": [
    "def one_hot_encode(X, Map):\n",
    "    lb = preprocessing.LabelBinarizer()\n",
    "    lb.fit(Map)\n",
    "    \n",
    "    return  lb.transform(X)"
   ]
  },
  {
   "cell_type": "code",
   "execution_count": 427,
   "metadata": {},
   "outputs": [],
   "source": [
    "Map = np.arange(43)\n",
    "\n",
    "y_test = one_hot_encode(y_test, Map)\n",
    "y_train = one_hot_encode(y_train, Map)\n",
    "y_valid = one_hot_encode(y_valid, Map)"
   ]
  },
  {
   "cell_type": "code",
   "execution_count": 428,
   "metadata": {
    "collapsed": true
   },
   "outputs": [],
   "source": [
    "from sklearn.utils import shuffle\n",
    "X_train, y_train = shuffle(X_train, y_train)\n",
    "X_test, y_test = shuffle(X_test, y_test)\n",
    "X_valid, y_valid = shuffle(X_valid, y_valid)"
   ]
  },
  {
   "cell_type": "markdown",
   "metadata": {},
   "source": [
    "### Include an exploratory visualization of the dataset"
   ]
  },
  {
   "cell_type": "markdown",
   "metadata": {},
   "source": [
    "Visualize the German Traffic Signs Dataset using the pickled file(s). This is open ended, suggestions include: plotting traffic sign images, plotting the count of each sign, etc. \n",
    "\n",
    "The [Matplotlib](http://matplotlib.org/) [examples](http://matplotlib.org/examples/index.html) and [gallery](http://matplotlib.org/gallery.html) pages are a great resource for doing visualizations in Python.\n",
    "\n",
    "**NOTE:** It's recommended you start with something simple first. If you wish to do more, come back to it after you've completed the rest of the sections. It can be interesting to look at the distribution of classes in the training, validation and test set. Is the distribution the same? Are there more examples of some classes than others?"
   ]
  },
  {
   "cell_type": "code",
   "execution_count": 429,
   "metadata": {},
   "outputs": [
    {
     "data": {
      "image/png": "[encoded data removed]",
      "text/plain": [
       "<matplotlib.figure.Figure at 0x10de5b470>"
      ]
     },
     "metadata": {},
     "output_type": "display_data"
    }
   ],
   "source": [
    "### Data exploration visualization code goes here.\n",
    "### Feel free to use as many code cells as needed.\n",
    "import matplotlib.pyplot as plt\n",
    "# Visualizations will be shown in the notebook.\n",
    "%matplotlib inline\n",
    "fig, axes = plt.subplots(nrows=2, ncols=10, sharex=True, sharey=True, figsize=(20,4))\n",
    "in_imgs_1 = X_train[60:70]\n",
    "in_imgs_2 = X_train[20:30]\n",
    "\n",
    "for images, row in  zip([in_imgs_1, in_imgs_2], axes):\n",
    "    for img, ax in zip(images, row):\n",
    "        ax.imshow(img.reshape((32,32,3)))\n",
    "        ax.get_xaxis().set_visible(False)\n",
    "        ax.get_yaxis().set_visible(False)\n",
    "fig.tight_layout(pad=0.1)"
   ]
  },
  {
   "cell_type": "markdown",
   "metadata": {},
   "source": [
    "----\n",
    "\n",
    "## Step 2: Design and Test a Model Architecture\n",
    "\n",
    "Design and implement a deep learning model that learns to recognize traffic signs. Train and test your model on the [German Traffic Sign Dataset](http://benchmark.ini.rub.de/?section=gtsrb&subsection=dataset).\n",
    "\n",
    "The LeNet-5 implementation shown in the [classroom](https://classroom.udacity.com/nanodegrees/nd013/parts/fbf77062-5703-404e-b60c-95b78b2f3f9e/modules/6df7ae49-c61c-4bb2-a23e-6527e69209ec/lessons/601ae704-1035-4287-8b11-e2c2716217ad/concepts/d4aca031-508f-4e0b-b493-e7b706120f81) at the end of the CNN lesson is a solid starting point. You'll have to change the number of classes and possibly the preprocessing, but aside from that it's plug and play! \n",
    "\n",
    "With the LeNet-5 solution from the lecture, you should expect a validation set accuracy of about 0.89. To meet specifications, the validation set accuracy will need to be at least 0.93. It is possible to get an even higher accuracy, but 0.93 is the minimum for a successful project submission. \n",
    "\n",
    "There are various aspects to consider when thinking about this problem:\n",
    "\n",
    "- Neural network architecture (is the network over or underfitting?)\n",
    "- Play around preprocessing techniques (normalization, rgb to grayscale, etc)\n",
    "- Number of examples per label (some have more than others).\n",
    "- Generate fake data.\n",
    "\n",
    "Here is an example of a [published baseline model on this problem](http://yann.lecun.com/exdb/publis/pdf/sermanet-ijcnn-11.pdf). It's not required to be familiar with the approach used in the paper but, it's good practice to try to read papers like these."
   ]
  },
  {
   "cell_type": "markdown",
   "metadata": {},
   "source": [
    "### Pre-process the Data Set (normalization, grayscale, etc.)"
   ]
  },
  {
   "cell_type": "markdown",
   "metadata": {},
   "source": [
    "Minimally, the image data should be normalized so that the data has mean zero and equal variance. For image data, `(pixel - 128)/ 128` is a quick way to approximately normalize the data and can be used in this project. \n",
    "\n",
    "Other pre-processing steps are optional. You can try different techniques to see if it improves performance. \n",
    "\n",
    "Use the code cell (or multiple code cells, if necessary) to implement the first step of your project."
   ]
  },
  {
   "cell_type": "code",
   "execution_count": 430,
   "metadata": {},
   "outputs": [
    {
     "data": {
      "text/plain": [
       "<matplotlib.image.AxesImage at 0x1285e67b8>"
      ]
     },
     "execution_count": 430,
     "metadata": {},
     "output_type": "execute_result"
    },
    {
     "data": {
      "image/png": "[encoded data removed]",
      "text/plain": [
       "<matplotlib.figure.Figure at 0x15f0772b0>"
      ]
     },
     "metadata": {},
     "output_type": "display_data"
    }
   ],
   "source": [
    "### Preprocess the data here. It is required to normalize the data. Other preprocessing steps could include \n",
    "### converting to grayscale, etc.\n",
    "### Feel free to use as many code cells as needed.\n",
    "\n",
    "# Normalize data to (0, 1)\n",
    "X_train = (X_train) / 255.0  # keep 128 float\n",
    "X_valid = (X_valid) / 255.0 \n",
    "X_test = (X_test) / 255.0 \n",
    "plt.imshow(X_test[0])"
   ]
  },
  {
   "cell_type": "code",
   "execution_count": 431,
   "metadata": {},
   "outputs": [],
   "source": [
    "# # Grey scale\n",
    "# X_train = np.reshape(rgb2gray(X_train), [X_train.shape[0], 32, 32, 1])\n",
    "# X_valid = np.reshape(rgb2gray(X_valid), [X_valid.shape[0], 32, 32, 1])\n",
    "# X_test = np.reshape(rgb2gray(X_test), [X_test.shape[0], 32, 32, 1])\n",
    "# plt.imshow(np.reshape(X_test[0], [32, 32]), cmap='gray')"
   ]
  },
  {
   "cell_type": "markdown",
   "metadata": {},
   "source": [
    "### Model Architecture"
   ]
  },
  {
   "cell_type": "code",
   "execution_count": 432,
   "metadata": {},
   "outputs": [],
   "source": [
    "### Define your architecture here.\n",
    "### Feel free to use as many code cells as needed.\n",
    "def flatten(x_tensor):\n",
    "    # \"-1\" represents \"None\", so use -1 when the batch_size is None\n",
    "    x_tensor = tf.reshape(x_tensor, [-1, x_tensor.get_shape().as_list()[1]*x_tensor.get_shape().as_list()[2]*\\\n",
    "                                     x_tensor.get_shape().as_list()[3]])\n",
    "    return x_tensor\n",
    "\n",
    "\n",
    "def build_graph(conv_kern_size, conv_strides, pool_size, pool_strides, is_training):\n",
    "    \n",
    "    # reset_graph\n",
    "    tf.reset_default_graph()\n",
    "    \n",
    "    with tf.name_scope('inputs_targets'):\n",
    "        \n",
    "        inputs = tf.placeholder(tf.float32, [None, 32, 32, 3], name='inputs')\n",
    "        targets = tf.placeholder(tf.float32, [None, 43], name='targets')\n",
    "        keep_p = tf.placeholder(tf.float32, name='keep_prob')\n",
    "        learning_rate = tf.placeholder(tf.float32, name='learning_rate')\n",
    "        training = tf.placeholder(tf.bool, name='training')\n",
    "        \n",
    "    with tf.name_scope('conv_layers'):\n",
    "        \n",
    "        conv2d_1 = tf.layers.conv2d(inputs, 16, conv_kern_size, strides=conv_strides, padding='same', activation=tf.nn.relu, name='conv_1')   \n",
    "        maxpool_1 = tf.layers.max_pooling2d(conv2d_1, pool_size, pool_strides, padding='same', name='pool_1')\n",
    "        bn_1 = tf.layers.batch_normalization(maxpool_1, training=is_training, name='bn_1')\n",
    "        d_1 = tf.layers.dropout(bn_1, rate=keep_p)\n",
    "        \n",
    "        conv2d_2 = tf.layers.conv2d(d_1, 32, conv_kern_size, strides=conv_strides, padding='same', activation=tf.nn.relu, name='conv_2')   \n",
    "        maxpool_2 = tf.layers.max_pooling2d(conv2d_2, pool_size, pool_strides, padding='same', name='pool_2')\n",
    "        bn_2 = tf.layers.batch_normalization(maxpool_2, training=is_training, name='bn_2')\n",
    "        d_2 = tf.layers.dropout(bn_2, rate=keep_p)\n",
    "        \n",
    "    with tf.name_scope('fully_connected_layers'):\n",
    "#         flatten_conv2d_1 = flatten(d_1)\n",
    "        flatten_conv2d_2 = flatten(d_2)\n",
    "#         concated = tf.concat([flatten_conv2d_1, flatten_conv2d_2], 1, name='concat')\n",
    "        \n",
    "        f_1 = tf.contrib.layers.fully_connected(flatten_conv2d_2, 512, activation_fn=tf.nn.relu)\n",
    "        bn_3 = tf.layers.batch_normalization(f_1, training=is_training, name='bn_3')\n",
    "        d_3 = tf.layers.dropout(bn_3, rate=keep_p)\n",
    "        \n",
    "        logits = tf.contrib.layers.fully_connected(d_3, 43, activation_fn=tf.sigmoid)\n",
    "        prediction = tf.nn.softmax(logits, name='softmax')\n",
    "    \n",
    "#     loss = tf.losses.softmax_cross_entropy(targets, logits)\n",
    "    loss = tf.nn.sigmoid_cross_entropy_with_logits(labels=targets , logits=logits, name='loss')\n",
    "    cost = tf.reduce_mean(loss, name='cost')\n",
    "    opt = tf.train.AdamOptimizer(learning_rate).minimize(cost)\n",
    "    \n",
    "#     correct_pred = tf.equal(tf.argmax(logits, 1), tf.argmax(targets, 1))\n",
    "#     accuracy = tf.reduce_mean(tf.cast(correct_pred, tf.float32), name='accuracy')*100\n",
    "    \n",
    "    with tf.name_scope('saver'):\n",
    "        saver = tf.train.Saver()\n",
    "        \n",
    "    export_nodes = ['inputs', 'targets', 'keep_p', 'learning_rate', 'training', 'conv2d_1', 'conv2d_2', 'bn_1', 'bn_2',\n",
    "                    'maxpool_1', 'maxpool_2', 'flatten_conv2d_2', 'f_1', 'logits',\n",
    "                    'prediction', 'loss', 'cost', 'opt', 'saver']\n",
    "    Graph = collections.namedtuple('Graph', export_nodes)\n",
    "    local_dict = locals()\n",
    "    graph = Graph(*[local_dict[each] for each in export_nodes])\n",
    "    \n",
    "    return graph"
   ]
  },
  {
   "cell_type": "markdown",
   "metadata": {},
   "source": [
    "### Train, Validate and Test the Model"
   ]
  },
  {
   "cell_type": "markdown",
   "metadata": {},
   "source": [
    "A validation set can be used to assess how well the model is performing. A low accuracy on the training and validation\n",
    "sets imply underfitting. A high accuracy on the training set but low accuracy on the validation set implies overfitting."
   ]
  },
  {
   "cell_type": "code",
   "execution_count": 433,
   "metadata": {
    "collapsed": true
   },
   "outputs": [],
   "source": [
    "### Train your model here.\n",
    "### Calculate and report the accuracy on the training and validation set.\n",
    "### Once a final model architecture is selected, \n",
    "### the accuracy on the test set should be calculated and reported as well.\n",
    "### Feel free to use as many code cells as needed.\n",
    "def get_batches(data, target, batch_size):\n",
    "    n_batches = len(data)//batch_size\n",
    "    data = data[:batch_size * n_batches]\n",
    "    target = target[:batch_size * n_batches]\n",
    "    for ii in range(0, batch_size*n_batches, batch_size):\n",
    "        data_batch = data[ii:ii + batch_size]\n",
    "        target_batch = target[ii:ii + batch_size]\n",
    "        \n",
    "        yield data_batch, target_batch\n",
    "        \n",
    "        \n",
    "def calculate_acc(pred, target):\n",
    "    correct_pred = np.equal(np.argmax(pred, axis=1), np.argmax(target, axis=1))\n",
    "    acc = np.mean(correct_pred.astype(float)) * 100\n",
    "    \n",
    "    return acc"
   ]
  },
  {
   "cell_type": "code",
   "execution_count": 434,
   "metadata": {
    "collapsed": true
   },
   "outputs": [],
   "source": [
    "def train(model, epochs, save_string, train_x, train_y, val_x, val_y):\n",
    "\n",
    "    with tf.Session(config=tf.ConfigProto(log_device_placement=True)) as sess:\n",
    "        sess.run(tf.global_variables_initializer())\n",
    "        \n",
    "        iteration = 1\n",
    "#         mean_val_loss = 0\n",
    "#         mean_val_acc = 0\n",
    "#         count_loss_not_decrease_epochs = 0\n",
    "#         count_acc_not_decrease_epochs = 0\n",
    "#         Last_val_loss = 0\n",
    "#         Last_val_acc = 0\n",
    "        \n",
    "        \n",
    "        for e in range(epochs):\n",
    "            for train_batch, target_batch in get_batches(train_x, train_y, batch_size):\n",
    "                    \n",
    "                start = time.time()\n",
    "                \n",
    "                feed_1 = {\n",
    "                        model.inputs: train_batch, \n",
    "                        model.targets: target_batch,\n",
    "                        model.keep_p: 0.5,\n",
    "                        model.learning_rate: lr,\n",
    "                        model.training:True\n",
    "                        }\n",
    "\n",
    "                train_loss, _, train_pred = sess.run([model.cost, model.opt, model.prediction], feed_dict=feed_1)\n",
    "                \n",
    "                train_acc = calculate_acc(train_pred, target_batch)\n",
    "                \n",
    "                if iteration%25==0:\n",
    "                    end = time.time()\n",
    "#                     acc = calculate_accuracy(sess, pred, target_batch, sq_length)\n",
    "                    print(\"Epoch: {}/{},\".format(e+1, epochs),' '\n",
    "                          \"Iteration: {},\".format(iteration),' '\n",
    "                          \"Train loss: {:.3f},\".format(train_loss),'      '\n",
    "                          \"{:.1f}s /batch.\".format((end-start)/5),' '\n",
    "                          \"Train Accuracy: %{:.3f}\".format(train_acc))\n",
    "\n",
    "                ##############################################################\n",
    "                ######################## VALIDATION ##########################\n",
    "                ##############################################################\n",
    "                \n",
    "                if iteration%55==0:\n",
    "#                     training = True\n",
    "                    validation_loss = []\n",
    "                    validation_acc = []\n",
    "                    \n",
    "                    if batch_size >= len(val_x):\n",
    "                        val_batch_size = len(val_x)\n",
    "                    else: \n",
    "                        val_batch_size = batch_size\n",
    "                        \n",
    "\n",
    "                    for ii, (val_batch, val_target_batch) in enumerate(get_batches(val_x, val_y, val_batch_size)):\n",
    "#                         print(ii, len(val_x)//val_batch_size)\n",
    "                        feed_2 = {\n",
    "                                model.inputs: val_batch,\n",
    "                                model.targets: val_target_batch,\n",
    "                                model.keep_p: 1,\n",
    "                                model.training:False\n",
    "                                }\n",
    "                        \n",
    "                        val_loss, val_pred = sess.run([model.cost, model.prediction], feed_dict=feed_2)\n",
    "#                         print('val_pred',np.argmax(val_pred, axis=1))\n",
    "#                         print('val_target_batch',np.argmax(val_target_batch, axis=1))\n",
    "                        val_acc = calculate_acc(val_pred, val_target_batch)\n",
    "                    \n",
    "                        validation_loss.append(val_loss)\n",
    "                        validation_acc.append(val_acc)\n",
    "                    \n",
    "#                     Last_val_loss = mean_val_loss\n",
    "#                     Last_val_acc = mean_val_acc\n",
    "                    mean_val_loss = np.mean(np.array(validation_loss))\n",
    "                    mean_val_acc = np.mean(np.array(validation_acc))\n",
    "                    \n",
    "                    print()\n",
    "                    print(\"Validation loss: {:.3f},\".format(mean_val_loss),' '\n",
    "                          \"Validation accuracy: %{:.3f},\".format(mean_val_acc))\n",
    "#                           \"maxpool_3.shape: {}.\".format(max_pool_3[0].shape))\n",
    "                    print()\n",
    "                ####### plot #######\n",
    "#                 if iteration%500==0:\n",
    "                    \n",
    "#                     feed_3 = {\n",
    "#                             model.inputs_1: val_x[:10],\n",
    "#                             model.keep_p: 1,\n",
    "#                             model.training:True\n",
    "#                             }\n",
    "                    \n",
    "#                     fig, axes = plt.subplots(nrows=3, ncols=10, sharex=True, sharey=True, figsize=(20,4))\n",
    "#                     in_imgs = val_x[:10]\n",
    "#                     target_imgs = val_y[:10]\n",
    "#                     reconstructed = sess.run(model.decoded, feed_dict=feed_3)\n",
    "\n",
    "#                     # plot out\n",
    "#                     for images, row in zip([in_imgs, target_imgs, reconstructed], axes):\n",
    "#                         for img, ax in zip(images, row):\n",
    "#                             ax.imshow(img.reshape((64, 64)), cmap='Greys_r')\n",
    "#                             ax.get_xaxis().set_visible(False)\n",
    "#                             ax.get_yaxis().set_visible(False)\n",
    "\n",
    "\n",
    "#                     fig.tight_layout(pad=0.1)\n",
    "                               \n",
    "                iteration += 1\n",
    "                \n",
    "#             # Early stopping  \n",
    "#             if mean_val_Acc - Last_val_Acc <= -0.3:\n",
    "#                 count_Acc_not_increase_epochs += 1\n",
    "#             if Last_val_loss - mean_val_loss <= -0.01:\n",
    "#                 count_loss_not_decrease_epochs += 1\n",
    "                \n",
    "#             if mean_val_Acc - Last_val_Acc <= -2:\n",
    "#                 break\n",
    "#             if count_Acc_not_increase_epochs >= 10:\n",
    "#                 break\n",
    "#             if count_loss_not_decrease_epochs >= 10:\n",
    "#                 break\n",
    "                \n",
    "        model.saver.save(sess, r\"{}\".format(save_string))\n"
   ]
  },
  {
   "cell_type": "code",
   "execution_count": 435,
   "metadata": {},
   "outputs": [
    {
     "name": "stdout",
     "output_type": "stream",
     "text": [
      "mkdir: checkpoints_traffic_classifier: File exists\n",
      "Epoch: 1/3000,  Iteration: 25,  Train loss: 0.874,       0.0s /batch.  Train Accuracy: %0.000\n",
      "Epoch: 1/3000,  Iteration: 50,  Train loss: 0.781,       0.0s /batch.  Train Accuracy: %5.000\n",
      "\n",
      "Validation loss: 0.798,  Validation accuracy: %3.750,\n",
      "\n",
      "Epoch: 1/3000,  Iteration: 75,  Train loss: 0.759,       0.0s /batch.  Train Accuracy: %5.000\n",
      "Epoch: 1/3000,  Iteration: 100,  Train loss: 0.782,       0.0s /batch.  Train Accuracy: %0.000\n",
      "\n",
      "Validation loss: 0.774,  Validation accuracy: %5.341,\n",
      "\n",
      "Epoch: 1/3000,  Iteration: 125,  Train loss: 0.769,       0.0s /batch.  Train Accuracy: %10.000\n",
      "Epoch: 1/3000,  Iteration: 150,  Train loss: 0.766,       0.0s /batch.  Train Accuracy: %0.000\n",
      "\n",
      "Validation loss: 0.743,  Validation accuracy: %6.568,\n",
      "\n",
      "Epoch: 1/3000,  Iteration: 175,  Train loss: 0.725,       0.0s /batch.  Train Accuracy: %0.000\n",
      "Epoch: 1/3000,  Iteration: 200,  Train loss: 0.729,       0.0s /batch.  Train Accuracy: %0.000\n",
      "\n",
      "Validation loss: 0.703,  Validation accuracy: %4.864,\n",
      "\n",
      "Epoch: 1/3000,  Iteration: 225,  Train loss: 0.699,       0.0s /batch.  Train Accuracy: %5.000\n",
      "Epoch: 1/3000,  Iteration: 250,  Train loss: 0.699,       0.0s /batch.  Train Accuracy: %0.000\n",
      "Epoch: 1/3000,  Iteration: 275,  Train loss: 0.695,       0.0s /batch.  Train Accuracy: %10.000\n",
      "\n",
      "Validation loss: 0.695,  Validation accuracy: %6.045,\n",
      "\n",
      "Epoch: 1/3000,  Iteration: 300,  Train loss: 0.694,       0.0s /batch.  Train Accuracy: %0.000\n",
      "Epoch: 1/3000,  Iteration: 325,  Train loss: 0.694,       0.0s /batch.  Train Accuracy: %5.000\n",
      "\n",
      "Validation loss: 0.694,  Validation accuracy: %7.500,\n",
      "\n",
      "Epoch: 1/3000,  Iteration: 350,  Train loss: 0.694,       0.0s /batch.  Train Accuracy: %5.000\n",
      "Epoch: 1/3000,  Iteration: 375,  Train loss: 0.694,       0.0s /batch.  Train Accuracy: %0.000\n",
      "\n",
      "Validation loss: 0.694,  Validation accuracy: %7.909,\n",
      "\n",
      "Epoch: 1/3000,  Iteration: 400,  Train loss: 0.694,       0.0s /batch.  Train Accuracy: %0.000\n",
      "Epoch: 1/3000,  Iteration: 425,  Train loss: 0.694,       0.0s /batch.  Train Accuracy: %25.000\n",
      "\n",
      "Validation loss: 0.694,  Validation accuracy: %8.886,\n",
      "\n",
      "Epoch: 1/3000,  Iteration: 450,  Train loss: 0.694,       0.0s /batch.  Train Accuracy: %0.000\n",
      "Epoch: 1/3000,  Iteration: 475,  Train loss: 0.694,       0.0s /batch.  Train Accuracy: %10.000\n",
      "\n",
      "Validation loss: 0.694,  Validation accuracy: %8.455,\n",
      "\n",
      "Epoch: 1/3000,  Iteration: 500,  Train loss: 0.693,       0.0s /batch.  Train Accuracy: %10.000\n",
      "Epoch: 1/3000,  Iteration: 525,  Train loss: 0.693,       0.0s /batch.  Train Accuracy: %10.000\n",
      "Epoch: 1/3000,  Iteration: 550,  Train loss: 0.693,       0.0s /batch.  Train Accuracy: %0.000\n",
      "\n",
      "Validation loss: 0.693,  Validation accuracy: %8.386,\n",
      "\n",
      "Epoch: 1/3000,  Iteration: 575,  Train loss: 0.693,       0.0s /batch.  Train Accuracy: %10.000\n",
      "Epoch: 1/3000,  Iteration: 600,  Train loss: 0.693,       0.0s /batch.  Train Accuracy: %5.000\n",
      "\n",
      "Validation loss: 0.693,  Validation accuracy: %8.500,\n",
      "\n",
      "Epoch: 1/3000,  Iteration: 625,  Train loss: 0.693,       0.0s /batch.  Train Accuracy: %5.000\n",
      "Epoch: 1/3000,  Iteration: 650,  Train loss: 0.693,       0.0s /batch.  Train Accuracy: %5.000\n",
      "\n",
      "Validation loss: 0.693,  Validation accuracy: %8.932,\n",
      "\n",
      "Epoch: 1/3000,  Iteration: 675,  Train loss: 0.693,       0.0s /batch.  Train Accuracy: %10.000\n",
      "Epoch: 1/3000,  Iteration: 700,  Train loss: 0.693,       0.0s /batch.  Train Accuracy: %15.000\n",
      "\n",
      "Validation loss: 0.693,  Validation accuracy: %9.386,\n",
      "\n",
      "Epoch: 1/3000,  Iteration: 725,  Train loss: 0.693,       0.0s /batch.  Train Accuracy: %0.000\n",
      "Epoch: 1/3000,  Iteration: 750,  Train loss: 0.693,       0.0s /batch.  Train Accuracy: %5.000\n",
      "\n",
      "Validation loss: 0.693,  Validation accuracy: %9.727,\n",
      "\n",
      "Epoch: 1/3000,  Iteration: 775,  Train loss: 0.693,       0.0s /batch.  Train Accuracy: %10.000\n",
      "Epoch: 1/3000,  Iteration: 800,  Train loss: 0.693,       0.0s /batch.  Train Accuracy: %10.000\n",
      "Epoch: 1/3000,  Iteration: 825,  Train loss: 0.693,       0.0s /batch.  Train Accuracy: %5.000\n",
      "\n",
      "Validation loss: 0.693,  Validation accuracy: %10.205,\n",
      "\n",
      "Epoch: 1/3000,  Iteration: 850,  Train loss: 0.693,       0.0s /batch.  Train Accuracy: %15.000\n",
      "Epoch: 1/3000,  Iteration: 875,  Train loss: 0.693,       0.0s /batch.  Train Accuracy: %5.000\n",
      "\n",
      "Validation loss: 0.693,  Validation accuracy: %10.000,\n",
      "\n",
      "Epoch: 1/3000,  Iteration: 900,  Train loss: 0.693,       0.0s /batch.  Train Accuracy: %15.000\n",
      "Epoch: 1/3000,  Iteration: 925,  Train loss: 0.693,       0.0s /batch.  Train Accuracy: %5.000\n",
      "\n",
      "Validation loss: 0.693,  Validation accuracy: %9.955,\n",
      "\n",
      "Epoch: 1/3000,  Iteration: 950,  Train loss: 0.693,       0.0s /batch.  Train Accuracy: %0.000\n",
      "Epoch: 1/3000,  Iteration: 975,  Train loss: 0.693,       0.0s /batch.  Train Accuracy: %15.000\n",
      "\n",
      "Validation loss: 0.693,  Validation accuracy: %10.341,\n",
      "\n",
      "Epoch: 1/3000,  Iteration: 1000,  Train loss: 0.693,       0.0s /batch.  Train Accuracy: %20.000\n",
      "Epoch: 1/3000,  Iteration: 1025,  Train loss: 0.693,       0.0s /batch.  Train Accuracy: %10.000\n",
      "\n",
      "Validation loss: 0.693,  Validation accuracy: %10.500,\n",
      "\n",
      "Epoch: 1/3000,  Iteration: 1050,  Train loss: 0.693,       0.0s /batch.  Train Accuracy: %10.000\n",
      "Epoch: 1/3000,  Iteration: 1075,  Train loss: 0.693,       0.0s /batch.  Train Accuracy: %5.000\n",
      "Epoch: 1/3000,  Iteration: 1100,  Train loss: 0.693,       0.0s /batch.  Train Accuracy: %5.000\n",
      "\n",
      "Validation loss: 0.693,  Validation accuracy: %10.432,\n",
      "\n",
      "Epoch: 1/3000,  Iteration: 1125,  Train loss: 0.693,       0.0s /batch.  Train Accuracy: %20.000\n",
      "Epoch: 1/3000,  Iteration: 1150,  Train loss: 0.693,       0.0s /batch.  Train Accuracy: %0.000\n",
      "\n",
      "Validation loss: 0.693,  Validation accuracy: %10.500,\n",
      "\n",
      "Epoch: 1/3000,  Iteration: 1175,  Train loss: 0.693,       0.0s /batch.  Train Accuracy: %10.000\n",
      "Epoch: 1/3000,  Iteration: 1200,  Train loss: 0.693,       0.0s /batch.  Train Accuracy: %5.000\n",
      "\n",
      "Validation loss: 0.693,  Validation accuracy: %10.659,\n",
      "\n",
      "Epoch: 1/3000,  Iteration: 1225,  Train loss: 0.693,       0.0s /batch.  Train Accuracy: %0.000\n",
      "Epoch: 1/3000,  Iteration: 1250,  Train loss: 0.693,       0.0s /batch.  Train Accuracy: %10.000\n",
      "\n",
      "Validation loss: 0.693,  Validation accuracy: %10.682,\n",
      "\n",
      "Epoch: 1/3000,  Iteration: 1275,  Train loss: 0.693,       0.0s /batch.  Train Accuracy: %10.000\n",
      "Epoch: 1/3000,  Iteration: 1300,  Train loss: 0.693,       0.0s /batch.  Train Accuracy: %15.000\n",
      "\n",
      "Validation loss: 0.693,  Validation accuracy: %10.705,\n",
      "\n",
      "Epoch: 1/3000,  Iteration: 1325,  Train loss: 0.693,       0.0s /batch.  Train Accuracy: %0.000\n",
      "Epoch: 1/3000,  Iteration: 1350,  Train loss: 0.693,       0.0s /batch.  Train Accuracy: %5.000\n",
      "Epoch: 1/3000,  Iteration: 1375,  Train loss: 0.693,       0.0s /batch.  Train Accuracy: %10.000\n",
      "\n",
      "Validation loss: 0.693,  Validation accuracy: %10.818,\n",
      "\n",
      "Epoch: 1/3000,  Iteration: 1400,  Train loss: 0.693,       0.0s /batch.  Train Accuracy: %10.000\n",
      "Epoch: 1/3000,  Iteration: 1425,  Train loss: 0.693,       0.0s /batch.  Train Accuracy: %5.000\n",
      "\n",
      "Validation loss: 0.693,  Validation accuracy: %10.727,\n",
      "\n",
      "Epoch: 1/3000,  Iteration: 1450,  Train loss: 0.693,       0.0s /batch.  Train Accuracy: %10.000\n",
      "Epoch: 1/3000,  Iteration: 1475,  Train loss: 0.693,       0.0s /batch.  Train Accuracy: %15.000\n",
      "\n",
      "Validation loss: 0.693,  Validation accuracy: %10.773,\n",
      "\n",
      "Epoch: 1/3000,  Iteration: 1500,  Train loss: 0.693,       0.0s /batch.  Train Accuracy: %0.000\n",
      "Epoch: 1/3000,  Iteration: 1525,  Train loss: 0.693,       0.0s /batch.  Train Accuracy: %10.000\n",
      "\n",
      "Validation loss: 0.693,  Validation accuracy: %10.636,\n",
      "\n",
      "Epoch: 1/3000,  Iteration: 1550,  Train loss: 0.693,       0.0s /batch.  Train Accuracy: %20.000\n",
      "Epoch: 1/3000,  Iteration: 1575,  Train loss: 0.693,       0.0s /batch.  Train Accuracy: %5.000\n",
      "\n",
      "Validation loss: 0.693,  Validation accuracy: %10.659,\n",
      "\n",
      "Epoch: 1/3000,  Iteration: 1600,  Train loss: 0.693,       0.0s /batch.  Train Accuracy: %5.000\n",
      "Epoch: 1/3000,  Iteration: 1625,  Train loss: 0.693,       0.0s /batch.  Train Accuracy: %10.000\n",
      "Epoch: 1/3000,  Iteration: 1650,  Train loss: 0.693,       0.0s /batch.  Train Accuracy: %0.000\n",
      "\n",
      "Validation loss: 0.693,  Validation accuracy: %10.432,\n",
      "\n",
      "Epoch: 1/3000,  Iteration: 1675,  Train loss: 0.693,       0.0s /batch.  Train Accuracy: %10.000\n",
      "Epoch: 1/3000,  Iteration: 1700,  Train loss: 0.693,       0.0s /batch.  Train Accuracy: %0.000\n"
     ]
    },
    {
     "name": "stdout",
     "output_type": "stream",
     "text": [
      "\n",
      "Validation loss: 0.693,  Validation accuracy: %10.409,\n",
      "\n",
      "Epoch: 1/3000,  Iteration: 1725,  Train loss: 0.693,       0.0s /batch.  Train Accuracy: %10.000\n",
      "Epoch: 2/3000,  Iteration: 1750,  Train loss: 0.693,       0.0s /batch.  Train Accuracy: %0.000\n",
      "\n",
      "Validation loss: 0.693,  Validation accuracy: %10.477,\n",
      "\n",
      "Epoch: 2/3000,  Iteration: 1775,  Train loss: 0.693,       0.0s /batch.  Train Accuracy: %5.000\n",
      "Epoch: 2/3000,  Iteration: 1800,  Train loss: 0.693,       0.0s /batch.  Train Accuracy: %30.000\n",
      "\n",
      "Validation loss: 0.693,  Validation accuracy: %10.409,\n",
      "\n",
      "Epoch: 2/3000,  Iteration: 1825,  Train loss: 0.693,       0.0s /batch.  Train Accuracy: %15.000\n",
      "Epoch: 2/3000,  Iteration: 1850,  Train loss: 0.693,       0.0s /batch.  Train Accuracy: %10.000\n",
      "\n",
      "Validation loss: 0.693,  Validation accuracy: %10.523,\n",
      "\n",
      "Epoch: 2/3000,  Iteration: 1875,  Train loss: 0.693,       0.0s /batch.  Train Accuracy: %10.000\n",
      "Epoch: 2/3000,  Iteration: 1900,  Train loss: 0.693,       0.0s /batch.  Train Accuracy: %10.000\n",
      "Epoch: 2/3000,  Iteration: 1925,  Train loss: 0.693,       0.0s /batch.  Train Accuracy: %0.000\n",
      "\n",
      "Validation loss: 0.693,  Validation accuracy: %10.614,\n",
      "\n",
      "Epoch: 2/3000,  Iteration: 1950,  Train loss: 0.693,       0.0s /batch.  Train Accuracy: %15.000\n",
      "Epoch: 2/3000,  Iteration: 1975,  Train loss: 0.693,       0.0s /batch.  Train Accuracy: %10.000\n",
      "\n",
      "Validation loss: 0.693,  Validation accuracy: %10.636,\n",
      "\n",
      "Epoch: 2/3000,  Iteration: 2000,  Train loss: 0.693,       0.0s /batch.  Train Accuracy: %15.000\n",
      "Epoch: 2/3000,  Iteration: 2025,  Train loss: 0.693,       0.0s /batch.  Train Accuracy: %30.000\n",
      "\n",
      "Validation loss: 0.693,  Validation accuracy: %10.636,\n",
      "\n",
      "Epoch: 2/3000,  Iteration: 2050,  Train loss: 0.693,       0.0s /batch.  Train Accuracy: %5.000\n",
      "Epoch: 2/3000,  Iteration: 2075,  Train loss: 0.693,       0.0s /batch.  Train Accuracy: %5.000\n"
     ]
    },
    {
     "ename": "KeyboardInterrupt",
     "evalue": "",
     "output_type": "error",
     "traceback": [
      "\u001b[0;31m---------------------------------------------------------------------------\u001b[0m",
      "\u001b[0;31mKeyboardInterrupt\u001b[0m                         Traceback (most recent call last)",
      "\u001b[0;32m<ipython-input-435-1a7055ea2762>\u001b[0m in \u001b[0;36m<module>\u001b[0;34m()\u001b[0m\n\u001b[1;32m     19\u001b[0m     \u001b[0mmodel\u001b[0m \u001b[0;34m=\u001b[0m \u001b[0mbuild_graph\u001b[0m\u001b[0;34m(\u001b[0m\u001b[0mconv_kern_size\u001b[0m\u001b[0;34m,\u001b[0m \u001b[0mconv_strides\u001b[0m\u001b[0;34m,\u001b[0m \u001b[0mpool_size\u001b[0m\u001b[0;34m,\u001b[0m \u001b[0mpool_strides\u001b[0m\u001b[0;34m,\u001b[0m \u001b[0;32mTrue\u001b[0m\u001b[0;34m)\u001b[0m\u001b[0;34m\u001b[0m\u001b[0m\n\u001b[1;32m     20\u001b[0m \u001b[0;34m\u001b[0m\u001b[0m\n\u001b[0;32m---> 21\u001b[0;31m     \u001b[0mtrain\u001b[0m\u001b[0;34m(\u001b[0m\u001b[0mmodel\u001b[0m\u001b[0;34m,\u001b[0m \u001b[0mepochs\u001b[0m\u001b[0;34m,\u001b[0m \u001b[0msave_string\u001b[0m\u001b[0;34m,\u001b[0m \u001b[0mX_train\u001b[0m\u001b[0;34m,\u001b[0m \u001b[0my_train\u001b[0m\u001b[0;34m,\u001b[0m \u001b[0mX_valid\u001b[0m\u001b[0;34m,\u001b[0m \u001b[0my_valid\u001b[0m\u001b[0;34m)\u001b[0m\u001b[0;34m\u001b[0m\u001b[0m\n\u001b[0m\u001b[1;32m     22\u001b[0m \u001b[0;34m\u001b[0m\u001b[0m\n\u001b[1;32m     23\u001b[0m     \u001b[0mprint\u001b[0m\u001b[0;34m(\u001b[0m\u001b[0;34m' '\u001b[0m\u001b[0;34m)\u001b[0m\u001b[0;34m\u001b[0m\u001b[0m\n",
      "\u001b[0;32m<ipython-input-434-73127fcdf3a4>\u001b[0m in \u001b[0;36mtrain\u001b[0;34m(model, epochs, save_string, train_x, train_y, val_x, val_y)\u001b[0m\n\u001b[1;32m     63\u001b[0m                                 }\n\u001b[1;32m     64\u001b[0m \u001b[0;34m\u001b[0m\u001b[0m\n\u001b[0;32m---> 65\u001b[0;31m                         \u001b[0mval_loss\u001b[0m\u001b[0;34m,\u001b[0m \u001b[0mval_pred\u001b[0m \u001b[0;34m=\u001b[0m \u001b[0msess\u001b[0m\u001b[0;34m.\u001b[0m\u001b[0mrun\u001b[0m\u001b[0;34m(\u001b[0m\u001b[0;34m[\u001b[0m\u001b[0mmodel\u001b[0m\u001b[0;34m.\u001b[0m\u001b[0mcost\u001b[0m\u001b[0;34m,\u001b[0m \u001b[0mmodel\u001b[0m\u001b[0;34m.\u001b[0m\u001b[0mprediction\u001b[0m\u001b[0;34m]\u001b[0m\u001b[0;34m,\u001b[0m \u001b[0mfeed_dict\u001b[0m\u001b[0;34m=\u001b[0m\u001b[0mfeed_2\u001b[0m\u001b[0;34m)\u001b[0m\u001b[0;34m\u001b[0m\u001b[0m\n\u001b[0m\u001b[1;32m     66\u001b[0m \u001b[0;31m#                         print('val_pred',np.argmax(val_pred, axis=1))\u001b[0m\u001b[0;34m\u001b[0m\u001b[0;34m\u001b[0m\u001b[0m\n\u001b[1;32m     67\u001b[0m \u001b[0;31m#                         print('val_target_batch',np.argmax(val_target_batch, axis=1))\u001b[0m\u001b[0;34m\u001b[0m\u001b[0;34m\u001b[0m\u001b[0m\n",
      "\u001b[0;32m/Users/congcong/anaconda/lib/python3.6/site-packages/tensorflow/python/client/session.py\u001b[0m in \u001b[0;36mrun\u001b[0;34m(self, fetches, feed_dict, options, run_metadata)\u001b[0m\n\u001b[1;32m    765\u001b[0m     \u001b[0;32mtry\u001b[0m\u001b[0;34m:\u001b[0m\u001b[0;34m\u001b[0m\u001b[0m\n\u001b[1;32m    766\u001b[0m       result = self._run(None, fetches, feed_dict, options_ptr,\n\u001b[0;32m--> 767\u001b[0;31m                          run_metadata_ptr)\n\u001b[0m\u001b[1;32m    768\u001b[0m       \u001b[0;32mif\u001b[0m \u001b[0mrun_metadata\u001b[0m\u001b[0;34m:\u001b[0m\u001b[0;34m\u001b[0m\u001b[0m\n\u001b[1;32m    769\u001b[0m         \u001b[0mproto_data\u001b[0m \u001b[0;34m=\u001b[0m \u001b[0mtf_session\u001b[0m\u001b[0;34m.\u001b[0m\u001b[0mTF_GetBuffer\u001b[0m\u001b[0;34m(\u001b[0m\u001b[0mrun_metadata_ptr\u001b[0m\u001b[0;34m)\u001b[0m\u001b[0;34m\u001b[0m\u001b[0m\n",
      "\u001b[0;32m/Users/congcong/anaconda/lib/python3.6/site-packages/tensorflow/python/client/session.py\u001b[0m in \u001b[0;36m_run\u001b[0;34m(self, handle, fetches, feed_dict, options, run_metadata)\u001b[0m\n\u001b[1;32m    963\u001b[0m     \u001b[0;32mif\u001b[0m \u001b[0mfinal_fetches\u001b[0m \u001b[0;32mor\u001b[0m \u001b[0mfinal_targets\u001b[0m\u001b[0;34m:\u001b[0m\u001b[0;34m\u001b[0m\u001b[0m\n\u001b[1;32m    964\u001b[0m       results = self._do_run(handle, final_targets, final_fetches,\n\u001b[0;32m--> 965\u001b[0;31m                              feed_dict_string, options, run_metadata)\n\u001b[0m\u001b[1;32m    966\u001b[0m     \u001b[0;32melse\u001b[0m\u001b[0;34m:\u001b[0m\u001b[0;34m\u001b[0m\u001b[0m\n\u001b[1;32m    967\u001b[0m       \u001b[0mresults\u001b[0m \u001b[0;34m=\u001b[0m \u001b[0;34m[\u001b[0m\u001b[0;34m]\u001b[0m\u001b[0;34m\u001b[0m\u001b[0m\n",
      "\u001b[0;32m/Users/congcong/anaconda/lib/python3.6/site-packages/tensorflow/python/client/session.py\u001b[0m in \u001b[0;36m_do_run\u001b[0;34m(self, handle, target_list, fetch_list, feed_dict, options, run_metadata)\u001b[0m\n\u001b[1;32m   1013\u001b[0m     \u001b[0;32mif\u001b[0m \u001b[0mhandle\u001b[0m \u001b[0;32mis\u001b[0m \u001b[0;32mNone\u001b[0m\u001b[0;34m:\u001b[0m\u001b[0;34m\u001b[0m\u001b[0m\n\u001b[1;32m   1014\u001b[0m       return self._do_call(_run_fn, self._session, feed_dict, fetch_list,\n\u001b[0;32m-> 1015\u001b[0;31m                            target_list, options, run_metadata)\n\u001b[0m\u001b[1;32m   1016\u001b[0m     \u001b[0;32melse\u001b[0m\u001b[0;34m:\u001b[0m\u001b[0;34m\u001b[0m\u001b[0m\n\u001b[1;32m   1017\u001b[0m       return self._do_call(_prun_fn, self._session, handle, feed_dict,\n",
      "\u001b[0;32m/Users/congcong/anaconda/lib/python3.6/site-packages/tensorflow/python/client/session.py\u001b[0m in \u001b[0;36m_do_call\u001b[0;34m(self, fn, *args)\u001b[0m\n\u001b[1;32m   1020\u001b[0m   \u001b[0;32mdef\u001b[0m \u001b[0m_do_call\u001b[0m\u001b[0;34m(\u001b[0m\u001b[0mself\u001b[0m\u001b[0;34m,\u001b[0m \u001b[0mfn\u001b[0m\u001b[0;34m,\u001b[0m \u001b[0;34m*\u001b[0m\u001b[0margs\u001b[0m\u001b[0;34m)\u001b[0m\u001b[0;34m:\u001b[0m\u001b[0;34m\u001b[0m\u001b[0m\n\u001b[1;32m   1021\u001b[0m     \u001b[0;32mtry\u001b[0m\u001b[0;34m:\u001b[0m\u001b[0;34m\u001b[0m\u001b[0m\n\u001b[0;32m-> 1022\u001b[0;31m       \u001b[0;32mreturn\u001b[0m \u001b[0mfn\u001b[0m\u001b[0;34m(\u001b[0m\u001b[0;34m*\u001b[0m\u001b[0margs\u001b[0m\u001b[0;34m)\u001b[0m\u001b[0;34m\u001b[0m\u001b[0m\n\u001b[0m\u001b[1;32m   1023\u001b[0m     \u001b[0;32mexcept\u001b[0m \u001b[0merrors\u001b[0m\u001b[0;34m.\u001b[0m\u001b[0mOpError\u001b[0m \u001b[0;32mas\u001b[0m \u001b[0me\u001b[0m\u001b[0;34m:\u001b[0m\u001b[0;34m\u001b[0m\u001b[0m\n\u001b[1;32m   1024\u001b[0m       \u001b[0mmessage\u001b[0m \u001b[0;34m=\u001b[0m \u001b[0mcompat\u001b[0m\u001b[0;34m.\u001b[0m\u001b[0mas_text\u001b[0m\u001b[0;34m(\u001b[0m\u001b[0me\u001b[0m\u001b[0;34m.\u001b[0m\u001b[0mmessage\u001b[0m\u001b[0;34m)\u001b[0m\u001b[0;34m\u001b[0m\u001b[0m\n",
      "\u001b[0;32m/Users/congcong/anaconda/lib/python3.6/site-packages/tensorflow/python/client/session.py\u001b[0m in \u001b[0;36m_run_fn\u001b[0;34m(session, feed_dict, fetch_list, target_list, options, run_metadata)\u001b[0m\n\u001b[1;32m   1002\u001b[0m         return tf_session.TF_Run(session, options,\n\u001b[1;32m   1003\u001b[0m                                  \u001b[0mfeed_dict\u001b[0m\u001b[0;34m,\u001b[0m \u001b[0mfetch_list\u001b[0m\u001b[0;34m,\u001b[0m \u001b[0mtarget_list\u001b[0m\u001b[0;34m,\u001b[0m\u001b[0;34m\u001b[0m\u001b[0m\n\u001b[0;32m-> 1004\u001b[0;31m                                  status, run_metadata)\n\u001b[0m\u001b[1;32m   1005\u001b[0m \u001b[0;34m\u001b[0m\u001b[0m\n\u001b[1;32m   1006\u001b[0m     \u001b[0;32mdef\u001b[0m \u001b[0m_prun_fn\u001b[0m\u001b[0;34m(\u001b[0m\u001b[0msession\u001b[0m\u001b[0;34m,\u001b[0m \u001b[0mhandle\u001b[0m\u001b[0;34m,\u001b[0m \u001b[0mfeed_dict\u001b[0m\u001b[0;34m,\u001b[0m \u001b[0mfetch_list\u001b[0m\u001b[0;34m)\u001b[0m\u001b[0;34m:\u001b[0m\u001b[0;34m\u001b[0m\u001b[0m\n",
      "\u001b[0;31mKeyboardInterrupt\u001b[0m: "
     ]
    }
   ],
   "source": [
    "!mkdir checkpoints_traffic_classifier\n",
    "\n",
    "epochs = 3000\n",
    "num_layers = 2\n",
    "batch_size = 20\n",
    "conv_kern_size = (5,5) #\n",
    "conv_strides = (1,1) ##\n",
    "pool_size = (2,2)\n",
    "pool_strides = (2,2)\n",
    "\n",
    "for lr in [0.001]:\n",
    "#                 log_string = 'logs/4/lr={},nl={},ls={},bs={}'.format(lr, num_layers, lstm_size, batch_size)\n",
    "    save_string = './checkpoints_traffic_classifier/traffic_classifier_lr={}_nl={}_bs={}.ckpt'.format(lr, num_layers, batch_size)\n",
    "                \n",
    "#             writer = tf.summary.FileWriter(log_string)\n",
    "#     build_graph(kern_size, std, conv_strides, pool_size, pool_strides, de_kern_size, \n",
    "#                 de_conv_strides, out_kern_size, out_strides, up_size=[(16,16), (32,32), (64,64)], set_is_training=True):\n",
    "    \n",
    "    model = build_graph(conv_kern_size, conv_strides, pool_size, pool_strides, True)\n",
    "\n",
    "    train(model, epochs, save_string, X_train, y_train, X_valid, y_valid)\n",
    "                \n",
    "    print(' ')\n",
    "    print(' ')\n",
    "    print(\"leraning_rate={},num_layers={},batch_size={} finished, saved\".format(lr, num_layers, batch_size))\n",
    "    print(' ')\n",
    "    print(' ')"
   ]
  },
  {
   "cell_type": "markdown",
   "metadata": {},
   "source": [
    "---\n",
    "\n",
    "## Step 3: Test a Model on New Images\n",
    "\n",
    "To give yourself more insight into how your model is working, download at least five pictures of German traffic signs from the web and use your model to predict the traffic sign type.\n",
    "\n",
    "You may find `signnames.csv` useful as it contains mappings from the class id (integer) to the actual sign name."
   ]
  },
  {
   "cell_type": "markdown",
   "metadata": {},
   "source": [
    "### Load and Output the Images"
   ]
  },
  {
   "cell_type": "code",
   "execution_count": null,
   "metadata": {
    "collapsed": true
   },
   "outputs": [],
   "source": [
    "### Load the images and plot them here.\n",
    "### Feel free to use as many code cells as needed."
   ]
  },
  {
   "cell_type": "markdown",
   "metadata": {},
   "source": [
    "### Predict the Sign Type for Each Image"
   ]
  },
  {
   "cell_type": "code",
   "execution_count": 3,
   "metadata": {
    "collapsed": true
   },
   "outputs": [],
   "source": [
    "### Run the predictions here and use the model to output the prediction for each image.\n",
    "### Make sure to pre-process the images with the same pre-processing pipeline used earlier.\n",
    "### Feel free to use as many code cells as needed."
   ]
  },
  {
   "cell_type": "markdown",
   "metadata": {},
   "source": [
    "### Analyze Performance"
   ]
  },
  {
   "cell_type": "code",
   "execution_count": 4,
   "metadata": {
    "collapsed": true
   },
   "outputs": [],
   "source": [
    "### Calculate the accuracy for these 5 new images. \n",
    "### For example, if the model predicted 1 out of 5 signs correctly, it's 20% accurate on these new images."
   ]
  },
  {
   "cell_type": "markdown",
   "metadata": {},
   "source": [
    "### Output Top 5 Softmax Probabilities For Each Image Found on the Web"
   ]
  },
  {
   "cell_type": "markdown",
   "metadata": {},
   "source": [
    "For each of the new images, print out the model's softmax probabilities to show the **certainty** of the model's predictions (limit the output to the top 5 probabilities for each image). [`tf.nn.top_k`](https://www.tensorflow.org/versions/r0.12/api_docs/python/nn.html#top_k) could prove helpful here. \n",
    "\n",
    "The example below demonstrates how tf.nn.top_k can be used to find the top k predictions for each image.\n",
    "\n",
    "`tf.nn.top_k` will return the values and indices (class ids) of the top k predictions. So if k=3, for each sign, it'll return the 3 largest probabilities (out of a possible 43) and the correspoding class ids.\n",
    "\n",
    "Take this numpy array as an example. The values in the array represent predictions. The array contains softmax probabilities for five candidate images with six possible classes. `tf.nn.top_k` is used to choose the three classes with the highest probability:\n",
    "\n",
    "```\n",
    "# (5, 6) array\n",
    "a = np.array([[ 0.24879643,  0.07032244,  0.12641572,  0.34763842,  0.07893497,\n",
    "         0.12789202],\n",
    "       [ 0.28086119,  0.27569815,  0.08594638,  0.0178669 ,  0.18063401,\n",
    "         0.15899337],\n",
    "       [ 0.26076848,  0.23664738,  0.08020603,  0.07001922,  0.1134371 ,\n",
    "         0.23892179],\n",
    "       [ 0.11943333,  0.29198961,  0.02605103,  0.26234032,  0.1351348 ,\n",
    "         0.16505091],\n",
    "       [ 0.09561176,  0.34396535,  0.0643941 ,  0.16240774,  0.24206137,\n",
    "         0.09155967]])\n",
    "```\n",
    "\n",
    "Running it through `sess.run(tf.nn.top_k(tf.constant(a), k=3))` produces:\n",
    "\n",
    "```\n",
    "TopKV2(values=array([[ 0.34763842,  0.24879643,  0.12789202],\n",
    "       [ 0.28086119,  0.27569815,  0.18063401],\n",
    "       [ 0.26076848,  0.23892179,  0.23664738],\n",
    "       [ 0.29198961,  0.26234032,  0.16505091],\n",
    "       [ 0.34396535,  0.24206137,  0.16240774]]), indices=array([[3, 0, 5],\n",
    "       [0, 1, 4],\n",
    "       [0, 5, 1],\n",
    "       [1, 3, 5],\n",
    "       [1, 4, 3]], dtype=int32))\n",
    "```\n",
    "\n",
    "Looking just at the first row we get `[ 0.34763842,  0.24879643,  0.12789202]`, you can confirm these are the 3 largest probabilities in `a`. You'll also notice `[3, 0, 5]` are the corresponding indices."
   ]
  },
  {
   "cell_type": "code",
   "execution_count": 3,
   "metadata": {
    "collapsed": true
   },
   "outputs": [],
   "source": [
    "### Print out the top five softmax probabilities for the predictions on the German traffic sign images found on the web. \n",
    "### Feel free to use as many code cells as needed."
   ]
  },
  {
   "cell_type": "markdown",
   "metadata": {},
   "source": [
    "### Project Writeup\n",
    "\n",
    "Once you have completed the code implementation, document your results in a project writeup using this [template](https://github.com/udacity/CarND-Traffic-Sign-Classifier-Project/blob/master/writeup_template.md) as a guide. The writeup can be in a markdown or pdf file. "
   ]
  },
  {
   "cell_type": "markdown",
   "metadata": {},
   "source": [
    "> **Note**: Once you have completed all of the code implementations and successfully answered each question above, you may finalize your work by exporting the iPython Notebook as an HTML document. You can do this by using the menu above and navigating to  \\n\",\n",
    "    \"**File -> Download as -> HTML (.html)**. Include the finished document along with this notebook as your submission."
   ]
  },
  {
   "cell_type": "markdown",
   "metadata": {},
   "source": [
    "---\n",
    "\n",
    "## Step 4 (Optional): Visualize the Neural Network's State with Test Images\n",
    "\n",
    " This Section is not required to complete but acts as an additional excersise for understaning the output of a neural network's weights. While neural networks can be a great learning device they are often referred to as a black box. We can understand what the weights of a neural network look like better by plotting their feature maps. After successfully training your neural network you can see what it's feature maps look like by plotting the output of the network's weight layers in response to a test stimuli image. From these plotted feature maps, it's possible to see what characteristics of an image the network finds interesting. For a sign, maybe the inner network feature maps react with high activation to the sign's boundary outline or to the contrast in the sign's painted symbol.\n",
    "\n",
    " Provided for you below is the function code that allows you to get the visualization output of any tensorflow weight layer you want. The inputs to the function should be a stimuli image, one used during training or a new one you provided, and then the tensorflow variable name that represents the layer's state during the training process, for instance if you wanted to see what the [LeNet lab's](https://classroom.udacity.com/nanodegrees/nd013/parts/fbf77062-5703-404e-b60c-95b78b2f3f9e/modules/6df7ae49-c61c-4bb2-a23e-6527e69209ec/lessons/601ae704-1035-4287-8b11-e2c2716217ad/concepts/d4aca031-508f-4e0b-b493-e7b706120f81) feature maps looked like for it's second convolutional layer you could enter conv2 as the tf_activation variable.\n",
    "\n",
    "For an example of what feature map outputs look like, check out NVIDIA's results in their paper [End-to-End Deep Learning for Self-Driving Cars](https://devblogs.nvidia.com/parallelforall/deep-learning-self-driving-cars/) in the section Visualization of internal CNN State. NVIDIA was able to show that their network's inner weights had high activations to road boundary lines by comparing feature maps from an image with a clear path to one without. Try experimenting with a similar test to show that your trained network's weights are looking for interesting features, whether it's looking at differences in feature maps from images with or without a sign, or even what feature maps look like in a trained network vs a completely untrained one on the same sign image.\n",
    "\n",
    "<figure>\n",
    " <img src=\"visualize_cnn.png\" width=\"380\" alt=\"Combined Image\" />\n",
    " <figcaption>\n",
    " <p></p> \n",
    " <p style=\"text-align: center;\"> Your output should look something like this (above)</p> \n",
    " </figcaption>\n",
    "</figure>\n",
    " <p></p> \n"
   ]
  },
  {
   "cell_type": "code",
   "execution_count": null,
   "metadata": {
    "collapsed": true
   },
   "outputs": [],
   "source": [
    "### Visualize your network's feature maps here.\n",
    "### Feel free to use as many code cells as needed.\n",
    "\n",
    "# image_input: the test image being fed into the network to produce the feature maps\n",
    "# tf_activation: should be a tf variable name used during your training procedure that represents the calculated state of a specific weight layer\n",
    "# activation_min/max: can be used to view the activation contrast in more detail, by default matplot sets min and max to the actual min and max values of the output\n",
    "# plt_num: used to plot out multiple different weight feature map sets on the same block, just extend the plt number for each new feature map entry\n",
    "\n",
    "def outputFeatureMap(image_input, tf_activation, activation_min=-1, activation_max=-1 ,plt_num=1):\n",
    "    # Here make sure to preprocess your image_input in a way your network expects\n",
    "    # with size, normalization, ect if needed\n",
    "    # image_input =\n",
    "    # Note: x should be the same name as your network's tensorflow data placeholder variable\n",
    "    # If you get an error tf_activation is not defined it may be having trouble accessing the variable from inside a function\n",
    "    activation = tf_activation.eval(session=sess,feed_dict={x : image_input})\n",
    "    featuremaps = activation.shape[3]\n",
    "    plt.figure(plt_num, figsize=(15,15))\n",
    "    for featuremap in range(featuremaps):\n",
    "        plt.subplot(6,8, featuremap+1) # sets the number of feature maps to show on each row and column\n",
    "        plt.title('FeatureMap ' + str(featuremap)) # displays the feature map number\n",
    "        if activation_min != -1 & activation_max != -1:\n",
    "            plt.imshow(activation[0,:,:, featuremap], interpolation=\"nearest\", vmin =activation_min, vmax=activation_max, cmap=\"gray\")\n",
    "        elif activation_max != -1:\n",
    "            plt.imshow(activation[0,:,:, featuremap], interpolation=\"nearest\", vmax=activation_max, cmap=\"gray\")\n",
    "        elif activation_min !=-1:\n",
    "            plt.imshow(activation[0,:,:, featuremap], interpolation=\"nearest\", vmin=activation_min, cmap=\"gray\")\n",
    "        else:\n",
    "            plt.imshow(activation[0,:,:, featuremap], interpolation=\"nearest\", cmap=\"gray\")"
   ]
  }
 ],
 "metadata": {
  "anaconda-cloud": {},
  "kernelspec": {
   "display_name": "Python 3",
   "language": "python",
   "name": "python3"
  },
  "language_info": {
   "codemirror_mode": {
    "name": "ipython",
    "version": 3
   },
   "file_extension": ".py",
   "mimetype": "text/x-python",
   "name": "python",
   "nbconvert_exporter": "python",
   "pygments_lexer": "ipython3",
   "version": "3.6.1"
  }
 },
 "nbformat": 4,
 "nbformat_minor": 1
}
