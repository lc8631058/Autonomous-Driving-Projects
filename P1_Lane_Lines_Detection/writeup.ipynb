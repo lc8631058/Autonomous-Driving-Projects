{
 "cells": [
  {
   "cell_type": "markdown",
   "metadata": {},
   "source": [
    "# Reflection"
   ]
  },
  {
   "cell_type": "markdown",
   "metadata": {},
   "source": [
    "## Modify the draw_lines() function\n",
    "<font size=3>\n",
    "My pipeline consisted of 5 steps. First, I converted the images to grayscale,\n",
    "Then I guassian blur it, in order to only leave the outline of the image.<br><br>\n",
    "then I use **cv2.Canny** to detect all lines in the image, then I need to create a masked area, to circle the lines only located in masked area. In order to draw a single line on the left and right lanes, I modified the draw_lines() function, first I classify the points on left line to a np.ndarray nemed left and points on right line to right array by judging the slope of every line:\n",
    "```python\n",
    "    left = np.array([line for line in lines for x1,y1,x2,y2 in line if (y2-y1)/(x2-x1) > 0])\n",
    "    left = np.reshape(left, [len(left),4])\n",
    "    right = np.array([line for line in lines for x1,y1,x2,y2 in line if (y2-y1)/(x2-x1) < 0])\n",
    "    right = np.reshape(right, [len(right),4])\n",
    "```\n",
    "\n",
    "Then I use np.mean to claculate mean value of each point in left and right:\n",
    "```python\n",
    "    left_line = np.mean(left, axis=0).astype(int)\n",
    "    right_line = np.mean(right, axis=0).astype(int)\n",
    "```\n",
    "Then I get 2 points represent a line on each side, then I calculte the slope of each line:\n",
    "```python\n",
    "    # create function of left line\n",
    "    left_slope = (left_line[3] - left_line[1])/(left_line[2] - left_line[0])\n",
    "    left_bias = np.int(left_line[1] - left_slope * left_line[0])\n",
    "```\n",
    "And create 2 function to describe left and right lines, then I create a function to calculate x value given y value:\n",
    "\n",
    "```python\n",
    "def cal_x(y, slope, bias):\n",
    "        return np.int((y - bias)/slope)\n",
    "```\n",
    "\n",
    "Finally, I calculate the X value when given the peak point Y value of the mask area, and the X value when give lowest point Y value of the mask area, of each side. and draw two lines on original image:"
   ]
  },
  {
   "cell_type": "markdown",
   "metadata": {},
   "source": [
    "# Identify potential shortcomings:\n",
    "<font size=3>One potential shortcoming would be what would happen when I test with solidYellowCurve.jpg, the right line of some frames are not correct, but still don't know why\n",
    "\n",
    "Another shortcoming could be that if the algorithm can detect lane lines or not hevily depend on veritices, if the vertices are too incline to right side, then it can't detect the left lane line, but that vertices should be changed when detect different video, it not the values than can be common use."
   ]
  },
  {
   "cell_type": "markdown",
   "metadata": {},
   "source": [
    "# Suggest possible improvements to your pipeline\n",
    "<font size=3>find a better way to draw lines, not only simple calculate the mean value."
   ]
  }
 ],
 "metadata": {
  "kernelspec": {
   "display_name": "Python 3",
   "language": "python",
   "name": "python3"
  },
  "language_info": {
   "codemirror_mode": {
    "name": "ipython",
    "version": 3
   },
   "file_extension": ".py",
   "mimetype": "text/x-python",
   "name": "python",
   "nbconvert_exporter": "python",
   "pygments_lexer": "ipython3",
   "version": "3.6.1"
  }
 },
 "nbformat": 4,
 "nbformat_minor": 2
}
